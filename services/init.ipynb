{
 "cells": [
  {
   "cell_type": "code",
   "execution_count": 1,
   "metadata": {},
   "outputs": [],
   "source": [
    "import nbimporter"
   ]
  },
  {
   "cell_type": "code",
   "execution_count": 2,
   "metadata": {
    "scrolled": true
   },
   "outputs": [
    {
     "name": "stdout",
     "output_type": "stream",
     "text": [
      "Importing Jupyter notebook from utils.ipynb\n",
      "Importing Jupyter notebook from blockchain.ipynb\n"
     ]
    }
   ],
   "source": [
    "import utils\n",
    "import blockchain as blockchain"
   ]
  },
  {
   "cell_type": "markdown",
   "metadata": {},
   "source": [
    "### LOAD RESOURCES"
   ]
  },
  {
   "cell_type": "code",
   "execution_count": 3,
   "metadata": {},
   "outputs": [],
   "source": [
    "settings = utils.load_yaml('resources/settings.yaml')"
   ]
  },
  {
   "cell_type": "code",
   "execution_count": 4,
   "metadata": {},
   "outputs": [],
   "source": [
    "identifier = utils.load_yaml('resources/identifier.yaml')"
   ]
  },
  {
   "cell_type": "code",
   "execution_count": 5,
   "metadata": {},
   "outputs": [],
   "source": [
    "latest = utils.load_json('resources/latest.json')"
   ]
  },
  {
   "cell_type": "markdown",
   "metadata": {},
   "source": [
    "### CONNECT TO ETHEREUM GATEWAY"
   ]
  },
  {
   "cell_type": "code",
   "execution_count": 6,
   "metadata": {},
   "outputs": [],
   "source": [
    "web3 = blockchain.connect(settings)"
   ]
  },
  {
   "cell_type": "markdown",
   "metadata": {},
   "source": [
    "### SERIALIZE MANAGER CONTRACTS"
   ]
  },
  {
   "cell_type": "code",
   "execution_count": 7,
   "metadata": {},
   "outputs": [],
   "source": [
    "device_manager = blockchain.contract(latest['devicemanager'], web3, settings)"
   ]
  },
  {
   "cell_type": "code",
   "execution_count": 8,
   "metadata": {},
   "outputs": [],
   "source": [
    "auth_manager = blockchain.contract(latest['authmanager'], web3, settings)"
   ]
  },
  {
   "cell_type": "markdown",
   "metadata": {},
   "source": [
    "### INIT DEVICE MANAGER"
   ]
  },
  {
   "cell_type": "code",
   "execution_count": 9,
   "metadata": {},
   "outputs": [
    {
     "data": {
      "text/plain": [
       "AttributeDict({'blockHash': HexBytes('0x6e8cc9d2c9dbd869ea0ad656598d3b48f930410db386fee6bddd799683f0bf02'),\n",
       " 'blockNumber': 137413,\n",
       " 'contractAddress': None,\n",
       " 'cumulativeGasUsed': 43465,\n",
       " 'from': '0x1ecC18DC2c41B6A5cC760dEdeBb0D857223A5721',\n",
       " 'gasUsed': 43465,\n",
       " 'logs': [],\n",
       " 'logsBloom': HexBytes('0x00000000000000000000000000000000000000000000000000000000000000000000000000000000000000000000000000000000000000000000000000000000000000000000000000000000000000000000000000000000000000000000000000000000000000000000000000000000000000000000000000000000000000000000000000000000000000000000000000000000000000000000000000000000000000000000000000000000000000000000000000000000000000000000000000000000000000000000000000000000000000000000000000000000000000000000000000000000000000000000000000000000000000000000000000000000'),\n",
       " 'status': 1,\n",
       " 'to': '0x9eD854d1BDCe63F0116e1af7dF90e24502f8d3a2',\n",
       " 'transactionHash': HexBytes('0xebd0ca83fd9984ced4e4457d4997cc82421345e809a83753159e711519046c9f'),\n",
       " 'transactionIndex': 0})"
      ]
     },
     "execution_count": 9,
     "metadata": {},
     "output_type": "execute_result"
    }
   ],
   "source": [
    "device_manager.write({\n",
    "    'func': 'init',\n",
    "    'params': [auth_manager.address]\n",
    "})"
   ]
  },
  {
   "cell_type": "markdown",
   "metadata": {},
   "source": [
    "### INIT AUTH MANAGER"
   ]
  },
  {
   "cell_type": "code",
   "execution_count": 10,
   "metadata": {},
   "outputs": [
    {
     "data": {
      "text/plain": [
       "AttributeDict({'blockHash': HexBytes('0xa0e7e96009c9f488be23c7b5a218d85601df1cc146ec04d32cf08467e6e8f96a'),\n",
       " 'blockNumber': 137414,\n",
       " 'contractAddress': None,\n",
       " 'cumulativeGasUsed': 64316,\n",
       " 'from': '0x1ecC18DC2c41B6A5cC760dEdeBb0D857223A5721',\n",
       " 'gasUsed': 64316,\n",
       " 'logs': [],\n",
       " 'logsBloom': HexBytes('0x00000000000000000000000000000000000000000000000000000000000000000000000000000000000000000000000000000000000000000000000000000000000000000000000000000000000000000000000000000000000000000000000000000000000000000000000000000000000000000000000000000000000000000000000000000000000000000000000000000000000000000000000000000000000000000000000000000000000000000000000000000000000000000000000000000000000000000000000000000000000000000000000000000000000000000000000000000000000000000000000000000000000000000000000000000000'),\n",
       " 'status': 1,\n",
       " 'to': '0xc2E14f93f8f8B69821120bD7980A5F1E9E77bc22',\n",
       " 'transactionHash': HexBytes('0x3d5f12b585621511cdbaf3e20875dbfda7d5d44b042e1d5052d3f0dc976cbe4e'),\n",
       " 'transactionIndex': 0})"
      ]
     },
     "execution_count": 10,
     "metadata": {},
     "output_type": "execute_result"
    }
   ],
   "source": [
    "auth_manager.write({\n",
    "    'func': 'init',\n",
    "    'params': [device_manager.address]\n",
    "})"
   ]
  },
  {
   "cell_type": "markdown",
   "metadata": {},
   "source": [
    "### REGISTER THE DEVICE"
   ]
  },
  {
   "cell_type": "code",
   "execution_count": 11,
   "metadata": {},
   "outputs": [],
   "source": [
    "# SHA256 HASH THE IDENTIFIER\n",
    "hashed_identifier = utils.hash_data(identifier)"
   ]
  },
  {
   "cell_type": "code",
   "execution_count": 12,
   "metadata": {},
   "outputs": [
    {
     "data": {
      "text/plain": [
       "AttributeDict({'blockHash': HexBytes('0x29a0ad4eefa058f43beda413e5641569713ace2abade089ddfaec014db000b28'),\n",
       " 'blockNumber': 137415,\n",
       " 'contractAddress': None,\n",
       " 'cumulativeGasUsed': 683353,\n",
       " 'from': '0x1ecC18DC2c41B6A5cC760dEdeBb0D857223A5721',\n",
       " 'gasUsed': 683353,\n",
       " 'logs': [AttributeDict({'address': '0x9eD854d1BDCe63F0116e1af7dF90e24502f8d3a2',\n",
       "   'topics': [HexBytes('0xc87542064bc1930c362cb7f85a979ab1051627291e7db73dfda0f48bca405481')],\n",
       "   'data': '0x',\n",
       "   'blockNumber': 137415,\n",
       "   'transactionHash': HexBytes('0x2aae3b67be95d31a023d2e7a6e490698ca3d4f947b6604e2ac45a9c030ab101c'),\n",
       "   'transactionIndex': 0,\n",
       "   'blockHash': HexBytes('0x29a0ad4eefa058f43beda413e5641569713ace2abade089ddfaec014db000b28'),\n",
       "   'logIndex': 0,\n",
       "   'removed': False})],\n",
       " 'logsBloom': HexBytes('0x00000000000000000000000000000000000000000000000000000000000000010000000000000000000000000000000000000000000000000000000000000000000000000000000000000000000000000100000000000000000000000000000000000000000000000000000000000000000000000000000000000000000000000000000000000020000000000000000000000000000000000000000000000000000000040000000000000000000000000000000000000000000200000000000000000000000000000000000000000000000000000000000000000000000000000000000000000000000000000000000000000000000000000000000000100000'),\n",
       " 'status': 1,\n",
       " 'to': '0x9eD854d1BDCe63F0116e1af7dF90e24502f8d3a2',\n",
       " 'transactionHash': HexBytes('0x2aae3b67be95d31a023d2e7a6e490698ca3d4f947b6604e2ac45a9c030ab101c'),\n",
       " 'transactionIndex': 0})"
      ]
     },
     "execution_count": 12,
     "metadata": {},
     "output_type": "execute_result"
    }
   ],
   "source": [
    "device_manager.write({\n",
    "    'func': 'create',\n",
    "    'params': [hashed_identifier]\n",
    "})"
   ]
  },
  {
   "cell_type": "markdown",
   "metadata": {},
   "source": [
    "### REQUEST AN ENCRYPTION KEY FOR THE DEVICE"
   ]
  },
  {
   "cell_type": "code",
   "execution_count": 13,
   "metadata": {},
   "outputs": [
    {
     "data": {
      "text/plain": [
       "AttributeDict({'blockHash': HexBytes('0xb6d4b7d6732baa3ed08e06579e6afe838a9e99b3a5c29cea2811ba1bfbc95ae9'),\n",
       " 'blockNumber': 137417,\n",
       " 'contractAddress': None,\n",
       " 'cumulativeGasUsed': 83619,\n",
       " 'from': '0x1ecC18DC2c41B6A5cC760dEdeBb0D857223A5721',\n",
       " 'gasUsed': 83619,\n",
       " 'logs': [AttributeDict({'address': '0xc2E14f93f8f8B69821120bD7980A5F1E9E77bc22',\n",
       "   'topics': [HexBytes('0x60a2a5991d9781a24cd2bcd88acc860a8334ef02efdad1c00fa914e64797926a')],\n",
       "   'data': '0x',\n",
       "   'blockNumber': 137417,\n",
       "   'transactionHash': HexBytes('0xfcf808272f5868f10a5720edddcd91f66fedf0985aa568bd5c7fddb4ab5e30b3'),\n",
       "   'transactionIndex': 0,\n",
       "   'blockHash': HexBytes('0xb6d4b7d6732baa3ed08e06579e6afe838a9e99b3a5c29cea2811ba1bfbc95ae9'),\n",
       "   'logIndex': 0,\n",
       "   'removed': False})],\n",
       " 'logsBloom': HexBytes('0x00000000000000000000000000000000000000000000000000000000000000000000000100000000000020000000000000000000000000000000000000000000000000000000000000000000000000000000000000000000000000400000000000000000000000000000000000000000000000000000000000000000000010000000000000000000000000000000000000000000000000000000000000000000000000000000000000000000000000000020000000000000000000000000000000020000000000000000000000000000000000000000000000000000000000000000000000000000000000000000000000000000000000000000000000000000'),\n",
       " 'status': 1,\n",
       " 'to': '0xc2E14f93f8f8B69821120bD7980A5F1E9E77bc22',\n",
       " 'transactionHash': HexBytes('0xfcf808272f5868f10a5720edddcd91f66fedf0985aa568bd5c7fddb4ab5e30b3'),\n",
       " 'transactionIndex': 0})"
      ]
     },
     "execution_count": 13,
     "metadata": {},
     "output_type": "execute_result"
    }
   ],
   "source": [
    "auth_manager.write({\n",
    "    'func': 'request_key',\n",
    "    'params': [hashed_identifier]\n",
    "})"
   ]
  },
  {
   "cell_type": "markdown",
   "metadata": {},
   "source": [
    "### USE THE HASHED IDENTIFIER TO LOCATE THE DEVICES SMART CONTRACT"
   ]
  },
  {
   "cell_type": "code",
   "execution_count": 15,
   "metadata": {},
   "outputs": [],
   "source": [
    "device_address = device_manager.read({\n",
    "    'func': 'fetch_device',\n",
    "    'params': hashed_identifier\n",
    "})"
   ]
  },
  {
   "cell_type": "markdown",
   "metadata": {},
   "source": [
    "### SERIALIZE THE DEVICE SPECIFIC CONTRACT"
   ]
  },
  {
   "cell_type": "code",
   "execution_count": 16,
   "metadata": {},
   "outputs": [],
   "source": [
    "device_contract = blockchain.contract({\n",
    "    'address': device_address,\n",
    "    'abi': latest['device']['abi']\n",
    "}, web3, settings)"
   ]
  },
  {
   "cell_type": "markdown",
   "metadata": {},
   "source": [
    "### SET DEVICE ETH ACCOUNT"
   ]
  },
  {
   "cell_type": "code",
   "execution_count": 17,
   "metadata": {},
   "outputs": [
    {
     "data": {
      "text/plain": [
       "AttributeDict({'blockHash': HexBytes('0x503bafea8d5062768aed2ba8c99d9e08422b31bb79eeb7ce5d7f7954f2cb4b7b'),\n",
       " 'blockNumber': 137419,\n",
       " 'contractAddress': None,\n",
       " 'cumulativeGasUsed': 43409,\n",
       " 'from': '0x1ecC18DC2c41B6A5cC760dEdeBb0D857223A5721',\n",
       " 'gasUsed': 43409,\n",
       " 'logs': [],\n",
       " 'logsBloom': HexBytes('0x00000000000000000000000000000000000000000000000000000000000000000000000000000000000000000000000000000000000000000000000000000000000000000000000000000000000000000000000000000000000000000000000000000000000000000000000000000000000000000000000000000000000000000000000000000000000000000000000000000000000000000000000000000000000000000000000000000000000000000000000000000000000000000000000000000000000000000000000000000000000000000000000000000000000000000000000000000000000000000000000000000000000000000000000000000000'),\n",
       " 'status': 1,\n",
       " 'to': '0xac59064cf4cE8f1C892c4C85dd4C86bf5C90f04b',\n",
       " 'transactionHash': HexBytes('0x8255c8215acdbf7afbe800b2c1bfceb561e95e322e70af2de63822cd644f777e'),\n",
       " 'transactionIndex': 0})"
      ]
     },
     "execution_count": 17,
     "metadata": {},
     "output_type": "execute_result"
    }
   ],
   "source": [
    "device_contract.write({\n",
    "    'func': 'set_device_account',\n",
    "    'params': [settings['keys']['public']]\n",
    "})"
   ]
  },
  {
   "cell_type": "code",
   "execution_count": null,
   "metadata": {},
   "outputs": [],
   "source": []
  }
 ],
 "metadata": {
  "kernelspec": {
   "display_name": "Python 3",
   "language": "python",
   "name": "python3"
  },
  "language_info": {
   "codemirror_mode": {
    "name": "ipython",
    "version": 3
   },
   "file_extension": ".py",
   "mimetype": "text/x-python",
   "name": "python",
   "nbconvert_exporter": "python",
   "pygments_lexer": "ipython3",
   "version": "3.8.5"
  }
 },
 "nbformat": 4,
 "nbformat_minor": 2
}
