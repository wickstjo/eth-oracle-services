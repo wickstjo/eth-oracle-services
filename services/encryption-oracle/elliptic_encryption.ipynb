{
 "cells": [
  {
   "cell_type": "code",
   "execution_count": 249,
   "metadata": {},
   "outputs": [],
   "source": [
    "import ecies\n",
    "import json\n",
    "import base64"
   ]
  },
  {
   "cell_type": "code",
   "execution_count": 229,
   "metadata": {},
   "outputs": [],
   "source": [
    "# https://pypi.org/project/eciespy/"
   ]
  },
  {
   "cell_type": "code",
   "execution_count": 230,
   "metadata": {},
   "outputs": [],
   "source": [
    "# http://www.math.brown.edu/johsilve/Presentations/WyomingEllipticCurve.pdf"
   ]
  },
  {
   "cell_type": "markdown",
   "metadata": {},
   "source": [
    "### GENERATE RAW ETHEREUM KEY"
   ]
  },
  {
   "cell_type": "code",
   "execution_count": 234,
   "metadata": {},
   "outputs": [],
   "source": [
    "def generate_keys():\n",
    "    \n",
    "    # GENERATE ETH KEY\n",
    "    eth_key = ecies.utils.generate_eth_key()\n",
    "    \n",
    "    # DERIVE PRIVATE KEY\n",
    "    private_key = eth_key.to_hex()\n",
    "    \n",
    "    # DERIVE PUBLIC KEY\n",
    "    public_key = eth_key.public_key.to_hex()\n",
    "    \n",
    "    return private_key, public_key"
   ]
  },
  {
   "cell_type": "markdown",
   "metadata": {},
   "source": [
    "### ENCRYPT & DECRYPT"
   ]
  },
  {
   "cell_type": "code",
   "execution_count": 258,
   "metadata": {},
   "outputs": [],
   "source": [
    "def encrypt(data, public_key):\n",
    "    \n",
    "    # CREATE STRINGIFIED JSON OBJECT\n",
    "    stringified = json.dumps({\n",
    "        'batch': data\n",
    "    })\n",
    "        \n",
    "    # CONVERT TO BYTES\n",
    "    encoded = stringified.encode()\n",
    "    \n",
    "    # ENCRYPT\n",
    "    encrypted = ecies.encrypt(public_key, encoded)\n",
    "\n",
    "    # CONVERT TO BASE64 BYTES\n",
    "    converted = base64.b64encode(encrypted)\n",
    "    \n",
    "    # RETURN AS STRING\n",
    "    return converted.decode('utf-8')"
   ]
  },
  {
   "cell_type": "code",
   "execution_count": 257,
   "metadata": {},
   "outputs": [],
   "source": [
    "def decrypt(data, private_key):\n",
    "    \n",
    "    # CONVERT TO BYTES\n",
    "    encoded = data.encode()\n",
    "    \n",
    "    # REVERSE BASE64 ENCODING\n",
    "    converted = base64.b64decode(encoded)\n",
    "    \n",
    "    # DECRYPT DATA\n",
    "    decrypted = ecies.decrypt(private_key, converted)\n",
    "    \n",
    "    # CONVERT TO STRING\n",
    "    stringified = decrypted.decode('utf-8')\n",
    "    \n",
    "    # CONVERT TO DICT\n",
    "    as_dict = json.loads(stringified)\n",
    "    \n",
    "    # RETURN THE BATCH PROPERTY\n",
    "    return as_dict['batch']"
   ]
  },
  {
   "cell_type": "code",
   "execution_count": null,
   "metadata": {},
   "outputs": [],
   "source": []
  }
 ],
 "metadata": {
  "kernelspec": {
   "display_name": "Python 3",
   "language": "python",
   "name": "python3"
  },
  "language_info": {
   "codemirror_mode": {
    "name": "ipython",
    "version": 3
   },
   "file_extension": ".py",
   "mimetype": "text/x-python",
   "name": "python",
   "nbconvert_exporter": "python",
   "pygments_lexer": "ipython3",
   "version": "3.8.5"
  }
 },
 "nbformat": 4,
 "nbformat_minor": 4
}
